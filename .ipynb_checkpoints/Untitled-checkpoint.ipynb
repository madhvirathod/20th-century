{
 "cells": [
  {
   "cell_type": "markdown",
   "id": "b2dc5330-0e9a-4848-acd5-345a96e24502",
   "metadata": {},
   "source": [
    "## 20th-century analysis"
   ]
  },
  {
   "cell_type": "code",
   "execution_count": null,
   "id": "9128408c-ee97-48c5-bfb5-f231a10c1510",
   "metadata": {},
   "outputs": [],
   "source": []
  }
 ],
 "metadata": {
  "kernelspec": {
   "display_name": "Python 3 (ipykernel)",
   "language": "python",
   "name": "python3"
  },
  "language_info": {
   "codemirror_mode": {
    "name": "ipython",
    "version": 3
   },
   "file_extension": ".py",
   "mimetype": "text/x-python",
   "name": "python",
   "nbconvert_exporter": "python",
   "pygments_lexer": "ipython3",
   "version": "3.11.7"
  }
 },
 "nbformat": 4,
 "nbformat_minor": 5
}
